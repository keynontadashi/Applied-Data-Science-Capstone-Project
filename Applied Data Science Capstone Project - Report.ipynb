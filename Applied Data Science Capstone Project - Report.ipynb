{
    "cells": [
        {
            "metadata": {},
            "cell_type": "markdown",
            "source": "# Applied Data Science Capstone Project - Report"
        },
        {
            "metadata": {
                "collapsed": true
            },
            "cell_type": "markdown",
            "source": "### Introduction / Business Problem\n* Opening a food establishment is a dream many small business owners have, yet according to Forbes only 45.4%-51% of them make it past the five-year mark. One of the largest contributing factors? BAD LOCATION. With a limitless number of obstacles owners already face, choosing an optimal location could be the defining line between \"make-it\" or \"break-it\". Leveraging FourSquare data, we will assist aspiring food & beverage related small business owners in Manhattan by identifying possible areas that show a need for these types of establishments."
        },
        {
            "metadata": {},
            "cell_type": "markdown",
            "source": "### Data\n1. The goal is to find possible neighborhood(s) that have a low number of restaurants but other attractions that still bring foot traffic in (ie. shopping, parks, etc). We want to rule out over saturated areas and show business owners what areas have a need for the service they look to provide.\n\n\n2. Data sourcing:\n* New York area data was sourced from the IBM Developer Skills Network JSON file, containing all New Year location data including: borough, neighborhood, longitude, latitude, etc.\n* Venue data was sourced from FourSquare Developer Documents, providing us with qualitative and quantitative information about each result.\n* *Let it be known that limitations existed on results from FourSquare due to account privelleges, or lack there of."
        },
        {
            "metadata": {},
            "cell_type": "markdown",
            "source": "### Methodology\n\nThe data is first recieved through a JSON file as a large list with pieces of data packed inbetween lines and lines of details, the first task was to isolate the information that was pertinent to us: features. We then built a dataframe that could reorganize the information of the lists into a form that we can begin to analyze. The columns included: Borough, Neighborhood, Latitude, and Longitude. Using a loop the data was filled neatly into the empty dataframe. Checking your data as you go along is very important, thus please refer to the multiple data heads and maps found periodically throughout the code material. It should give you an idea of how the data is being reorganized.\n\n\nAs the goal of the project was to identify variables that would point out strong neighborhoods for restaurant success, the first priority was to get an image of each neighborhood. Gathering nearby venues, restaurant and attraction alike, not only created the oppotunity to find which areas were saturated (or unsaturated) with restaurants, we could also see if there were reasons for people to come by (ie. shopping malls, parks, etc). Using the FourSquare data we were able to get 100 venues within a 500 meter radius of each neighborhood, and filter them into categories in each neighborhood.\n\n\nAfter aggregating all venues labeled as some type of restaurant from the FourSquare data, the top 15 categories of each neighborhood was then retrieved and sorted by:\n1) Highest number of restaurants in one area\n\n2) Lowest number of restaurants in one area"
        },
        {
            "metadata": {},
            "cell_type": "markdown",
            "source": "### Results\n\nWithout a doubt, restaurants are by far the most abundant venue type for all neighborhoods in Manhattan. On top of that, together with other types of food and beverage establishments make up Other common surrounding attractions include: gyms, art related venues, and parks."
        },
        {
            "metadata": {},
            "cell_type": "markdown",
            "source": "### Discussion\n\n\nFrom the results of the project we can suggest that the following areas have a **NEED** for more restaurants:\n1. Stuyvesant Town\n2. Marble Hill\n3. Roosevelt Island\n4. Battery Park\n5. Morningside Heights\n6. East Harlem\n7. Lincoln Square\n8. Lower East Side\n9. Central Harlem\n10. Hudson Yards\n\nThe following neighborhoods had the highest number of restaurants in the Manhattan area and are most likely **MORE DIFFICULT** to start a restaurant:\n1. Greenwhich Village\n2. Chinatown\n3. Upper West Side\n4. East Village\n5. West Village\n6. Flatiron\n7. Turtle Bay\n8. Noho\n9. Midtown South\n10. Murray Hill\n\n\nAlthough the integrity of the data is solid, the FourSquare data did possess limitations in its categorizing methods and did not properly label some business. Overall, FourSquare did a terrific job of sorting them into various types of restaurants for the purposes of this analysis. Coffee shops, cocktail bars, cafes, sports bars, pizza places, etc. are some of the types of venues not included in a \"restaurant\" label and thus were not counted in the current evaluation. These establishments can be categorized to the disgression of the analyst or data manager, and must therefore be defined clearly early on in the research efforts. Should it be desired that any and all types of food and beverage service be included in the \"restaurant\" count, further analysis must be completed before circulation of this material."
        },
        {
            "metadata": {},
            "cell_type": "markdown",
            "source": "### Conclusion\n\nThis report provided an overview on potential areas for aspiring food business owners to put up restaurants, according to the number of restaurants that already exist in the given areas of Manhattan. Although this research was a great start in the ways of proving our entrepenuers recommendations based on statistical data, the location of a new restaurant is far too important to be decided upon by a single factor. Much more indepth analysis must still be done. \nIe.\n* Crime rates\n* Demographic analysis\n* Attraction popularity\n* Breakdown of restaurants by type of cuisine\n* Transportation availability\n\nAlthough we still have a long road ahead, I believe that others will take this data and continue to add upon it as they reach for their goals."
        },
        {
            "metadata": {},
            "cell_type": "code",
            "source": "",
            "execution_count": null,
            "outputs": []
        }
    ],
    "metadata": {
        "kernelspec": {
            "name": "python3",
            "display_name": "Python 3.7",
            "language": "python"
        },
        "language_info": {
            "name": "python",
            "version": "3.7.10",
            "mimetype": "text/x-python",
            "codemirror_mode": {
                "name": "ipython",
                "version": 3
            },
            "pygments_lexer": "ipython3",
            "nbconvert_exporter": "python",
            "file_extension": ".py"
        }
    },
    "nbformat": 4,
    "nbformat_minor": 1
}