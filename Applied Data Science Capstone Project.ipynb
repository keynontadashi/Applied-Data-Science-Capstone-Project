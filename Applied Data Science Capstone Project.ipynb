{
    "cells": [
        {
            "metadata": {
                "collapsed": true
            },
            "cell_type": "markdown",
            "source": "# Applied Data Science Capstone Project\nThis notebook will be mainly used for the purposes of the project for the final step in the IBM Data Science Professional Certificate"
        },
        {
            "metadata": {},
            "cell_type": "code",
            "source": "import pandas as pd\nimport numpy as np",
            "execution_count": 3,
            "outputs": []
        },
        {
            "metadata": {},
            "cell_type": "code",
            "source": "print('Hello Capstone Project Course!')",
            "execution_count": 4,
            "outputs": [
                {
                    "output_type": "stream",
                    "text": "Hello Capstone Project Course!\n",
                    "name": "stdout"
                }
            ]
        },
        {
            "metadata": {},
            "cell_type": "markdown",
            "source": "### Introduction / Business Problem\nOpening a food establishment is a dream many small business owners have, yet according to Forbes only 45.4%-51% of them make it past the five-year mark. One of the largest contributing factors? BAD LOCATION. With a limitless number of obstacles owners already face, choosing an optimal location could be the defining line between \"make-it\" or \"break-it\". Leveraging FourSquare data, we can assist aspiring food & beverage related small business owners by identifying possible areas that show a need for these types of establishments."
        },
        {
            "metadata": {},
            "cell_type": "markdown",
            "source": "### Data\nThe goal is to find a possible neighborhood(s) that has a low number of restaurants but possibly"
        }
    ],
    "metadata": {
        "kernelspec": {
            "name": "python3",
            "display_name": "Python 3.7",
            "language": "python"
        },
        "language_info": {
            "name": "python",
            "version": "3.7.10",
            "mimetype": "text/x-python",
            "codemirror_mode": {
                "name": "ipython",
                "version": 3
            },
            "pygments_lexer": "ipython3",
            "nbconvert_exporter": "python",
            "file_extension": ".py"
        }
    },
    "nbformat": 4,
    "nbformat_minor": 1
}